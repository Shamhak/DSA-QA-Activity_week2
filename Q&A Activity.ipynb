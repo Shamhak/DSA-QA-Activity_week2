{
 "cells": [
  {
   "cell_type": "markdown",
   "id": "ce83f031",
   "metadata": {},
   "source": [
    "1. Complete the following code to find the area of an equilateral triangle. Output should be as displayed as"
   ]
  },
  {
   "cell_type": "code",
   "execution_count": 1,
   "id": "b04d7b4f",
   "metadata": {},
   "outputs": [
    {
     "name": "stdout",
     "output_type": "stream",
     "text": [
      "Enter the side of the equilateral triangle: 6\n",
      "Area =  15.588\n"
     ]
    }
   ],
   "source": [
    "import math\n",
    "side = float(input(\"Enter the side of the equilateral triangle: \"))\n",
    "area = ((math.sqrt(3))/4)*pow(side,2)\n",
    "print(\"Area = \",(round(area,3)))"
   ]
  },
  {
   "cell_type": "markdown",
   "id": "812b2685",
   "metadata": {},
   "source": [
    "2 . Write a program to count the number of each characters in a string"
   ]
  },
  {
   "cell_type": "code",
   "execution_count": 2,
   "id": "e2b0948a",
   "metadata": {},
   "outputs": [
    {
     "name": "stdout",
     "output_type": "stream",
     "text": [
      "Enter the String : Good Morning\n",
      "Total Number of Characters in this String =  12\n"
     ]
    }
   ],
   "source": [
    "str1 = input(\"Enter the String : \")\n",
    "total = 0\n",
    " \n",
    "for i in str1:\n",
    "    total = total + 1\n",
    " \n",
    "print(\"Total Number of Characters in this String = \", total)"
   ]
  },
  {
   "cell_type": "markdown",
   "id": "20353fc1",
   "metadata": {},
   "source": [
    "3. Write a program to find the area and perimeter of a rectangle using functions"
   ]
  },
  {
   "cell_type": "code",
   "execution_count": 3,
   "id": "b59b1402",
   "metadata": {},
   "outputs": [
    {
     "name": "stdout",
     "output_type": "stream",
     "text": [
      "Length : 15\n",
      "Width : 20\n",
      "Area of Rectangle :  300\n",
      "Perimeter of Rectangle :  70\n"
     ]
    }
   ],
   "source": [
    "l=int(input(\"Length : \"))\n",
    "w=int(input(\"Width : \"))\n",
    "area=l*w\n",
    "perimeter=2*(l+w)\n",
    "print(\"Area of Rectangle : \",area)\n",
    "print(\"Perimeter of Rectangle : \",perimeter)"
   ]
  },
  {
   "cell_type": "markdown",
   "id": "65feda88",
   "metadata": {},
   "source": [
    "4. Write a program to print the fibonacci series till a specified number"
   ]
  },
  {
   "cell_type": "code",
   "execution_count": 4,
   "id": "0a5f3af3",
   "metadata": {},
   "outputs": [
    {
     "name": "stdout",
     "output_type": "stream",
     "text": [
      "How many terms? 5\n",
      "Fibonacci sequence:\n",
      "0\n",
      "1\n",
      "1\n",
      "2\n",
      "3\n"
     ]
    }
   ],
   "source": [
    "nterms = int(input(\"How many terms? \"))\n",
    "\n",
    "n1, n2 = 0, 1\n",
    "count = 0\n",
    "\n",
    "if nterms <= 0:\n",
    "   print(\"Please enter a positive integer\")\n",
    "\n",
    "elif nterms == 1:\n",
    "   print(\"Fibonacci sequence upto\",nterms,\":\")\n",
    "   print(n1)\n",
    "\n",
    "else:\n",
    "   print(\"Fibonacci sequence:\")\n",
    "   while count < nterms:\n",
    "       print(n1)\n",
    "       nth = n1 + n2\n",
    "       \n",
    "       n1 = n2\n",
    "       n2 = nth\n",
    "       count += 1"
   ]
  },
  {
   "cell_type": "markdown",
   "id": "1e905b1f",
   "metadata": {},
   "source": [
    "5. Complete the following code to find the minimum of 3 number using conditional statements. Output should be as displayed"
   ]
  },
  {
   "cell_type": "code",
   "execution_count": 5,
   "id": "fb08f85e",
   "metadata": {},
   "outputs": [
    {
     "name": "stdout",
     "output_type": "stream",
     "text": [
      "Enter the first number: 65\n",
      "Enter the second number: -89\n",
      "Enter the third number: -25\n",
      "Smallest number is -89\n"
     ]
    }
   ],
   "source": [
    "num1=int(input(\"Enter the first number: \"))\n",
    "num2=int(input(\"Enter the second number: \"))\n",
    "num3=int(input(\"Enter the third number: \"))\n",
    "if(num1<=num2):\n",
    "      if(num1<=num3):\n",
    "            Smallest=num1\n",
    "      else:\n",
    "          Smallest=num3\n",
    "else:\n",
    "      if (num2<=num3):\n",
    "        Smallest=num2\n",
    "      else:\n",
    "        Smallest=num3\n",
    "      \n",
    "print(\"Smallest number is\", Smallest)"
   ]
  },
  {
   "cell_type": "markdown",
   "id": "7ce9ac1a",
   "metadata": {},
   "source": [
    "6. Write a program to print star pyramind. The number of rows should be taken as input from the user"
   ]
  },
  {
   "cell_type": "code",
   "execution_count": 6,
   "id": "4c8e9801",
   "metadata": {},
   "outputs": [
    {
     "name": "stdout",
     "output_type": "stream",
     "text": [
      "Enter number of rows: 5\n",
      "* \n",
      "\n",
      "* * \n",
      "\n",
      "* * * \n",
      "\n",
      "* * * * \n",
      "\n",
      "* * * * * \n",
      "\n"
     ]
    }
   ],
   "source": [
    "rows = int(input(\"Enter number of rows: \"))\n",
    "\n",
    "for i in range(rows):\n",
    "    for j in range(i+1):\n",
    "        print(\"* \", end=\"\")\n",
    "    print(\"\\n\")"
   ]
  },
  {
   "cell_type": "markdown",
   "id": "fff769db",
   "metadata": {},
   "source": [
    "7. Complete the following code to convert hour into seconds. Output should be as displayed"
   ]
  },
  {
   "cell_type": "code",
   "execution_count": 1,
   "id": "99413000",
   "metadata": {},
   "outputs": [
    {
     "name": "stdout",
     "output_type": "stream",
     "text": [
      "Please enter hours:9\n",
      "32400  Seconds\n"
     ]
    }
   ],
   "source": [
    "hours = int(input(\"Please enter hours:\"))\n",
    "seconds = hours * 60 * 60\n",
    "print(seconds, \" Seconds\")"
   ]
  },
  {
   "cell_type": "markdown",
   "id": "e285bd59",
   "metadata": {},
   "source": [
    "8. Write a program to print multiplication table as below"
   ]
  },
  {
   "cell_type": "code",
   "execution_count": 1,
   "id": "ec05a19b",
   "metadata": {},
   "outputs": [
    {
     "name": "stdout",
     "output_type": "stream",
     "text": [
      " Enter a number : 67\n",
      "Table of: \n",
      "67 x 1 = 67\n",
      "67 x 2 = 134\n",
      "67 x 3 = 201\n",
      "67 x 4 = 268\n",
      "67 x 5 = 335\n",
      "67 x 6 = 402\n",
      "67 x 7 = 469\n",
      "67 x 8 = 536\n",
      "67 x 9 = 603\n",
      "67 x 10 = 670\n"
     ]
    }
   ],
   "source": [
    "numb = int(input(\" Enter a number : \"))   \n",
    "print(\"Table of: \")  \n",
    "for a in range(1,11):    \n",
    "   print(numb,'x',a,'=',numb*a) "
   ]
  },
  {
   "cell_type": "markdown",
   "id": "7e4d9fdf",
   "metadata": {},
   "source": [
    "9. Write a program to take your 5 favorite food as list and print each as 'I like Biriyani'"
   ]
  },
  {
   "cell_type": "code",
   "execution_count": 2,
   "id": "22f456b8",
   "metadata": {},
   "outputs": [
    {
     "name": "stdout",
     "output_type": "stream",
     "text": [
      "enter your favorite_foodChocos Icecream Dessert Biriyani Pizza\n",
      "I like  Chocos\n",
      "I like  Icecream\n",
      "I like  Dessert\n",
      "I like  Biriyani\n",
      "I like  Pizza\n"
     ]
    }
   ],
   "source": [
    "favorite_food = input(\"enter your favorite_food\").split()\n",
    "for i in range (0,5): \n",
    "  print(\"I like \" ,favorite_food [i] )"
   ]
  }
 ],
 "metadata": {
  "kernelspec": {
   "display_name": "Python 3 (ipykernel)",
   "language": "python",
   "name": "python3"
  },
  "language_info": {
   "codemirror_mode": {
    "name": "ipython",
    "version": 3
   },
   "file_extension": ".py",
   "mimetype": "text/x-python",
   "name": "python",
   "nbconvert_exporter": "python",
   "pygments_lexer": "ipython3",
   "version": "3.9.7"
  }
 },
 "nbformat": 4,
 "nbformat_minor": 5
}
